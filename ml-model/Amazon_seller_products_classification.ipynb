{
 "cells": [
  {
   "cell_type": "code",
   "execution_count": 1,
   "id": "f55ad512-9af1-428c-8eb2-b3f21559d15d",
   "metadata": {},
   "outputs": [],
   "source": [
    "from selenium import webdriver\n",
    "from bs4 import BeautifulSoup\n",
    "from selenium.webdriver.common.by import By\n",
    "from selenium.webdriver.common.keys import Keys\n",
    "import time"
   ]
  },
  {
   "cell_type": "code",
   "execution_count": 2,
   "id": "1ef8eec6-8f59-440e-8120-ebf9f9a534e4",
   "metadata": {},
   "outputs": [],
   "source": [
    "from selenium.webdriver.chrome.options import Options\n",
    "\n",
    "options = Options()\n",
    "options.add_argument(\"--headless\")\n",
    "options.add_argument(\"--disable-gpu\")\n",
    "options.add_argument(\"user-agent=Mozilla/5.0 (Windows NT 10.0; Win64; x64) AppleWebKit/537.36 (KHTML, like Gecko) Chrome/98.0.4758.102 Safari/537.36\")"
   ]
  },
  {
   "cell_type": "code",
   "execution_count": 3,
   "id": "fef246af-c068-4a03-b87b-6f147e3e89a9",
   "metadata": {},
   "outputs": [],
   "source": [
    "from transformers import pipeline\n",
    "\n",
    "classifier = pipeline(\"zero-shot-classification\", model=\"facebook/bart-large-mnli\")\n",
    "\n",
    "categories = [\"Phone\", \"Phone Accessories\", \"Tablets\", \"Wearable Devices\", \"Stationary\", \"Software\", \"Computers\", \"Laptops\", \"Computer Accessories\", \"Gaming\", \"Television\", \"Headphones\", \"Speakers\", \"Cameras\", \"Musical\", \"Appliances\", \"Clothing\", \"Footwear\", \"Kitchen\", \"Furniture\", \"Art Supplies\",\"Pet Supplies\", \"Sports\", \"Fitness\", \"Luggage\", \"Toys\", \"Baby Products\", \"Car Accessories\", \"Bike Accessories\", \"Industrial Supplies\", \"Books\", \"Movies\", \"Skincare\"]\n",
    "\n",
    "def categorize_product_advanced(product_name):\n",
    "    result = classifier(product_name, categories)\n",
    "    return result[\"labels\"][0]"
   ]
  },
  {
   "cell_type": "code",
   "execution_count": 4,
   "id": "461f5445-5ec2-4cc2-8ff4-c2977b00a7ab",
   "metadata": {},
   "outputs": [],
   "source": [
    "def scrape_products(browser):\n",
    "    soup = BeautifulSoup(browser.page_source, 'html.parser')\n",
    "    page_data = []\n",
    "    for s in soup.find_all(attrs={\"role\": \"listitem\"}):\n",
    "        try:\n",
    "            name = s.find(\"h2\").get(\"aria-label\")\n",
    "            rating = s.find(class_=\"a-icon-alt\").text[:3]\n",
    "            number = s.find(attrs={\"data-cy\":\"reviews-block\"}).find(class_=\"a-link-normal s-underline-text s-underline-link-text s-link-style\").get(\"aria-label\")\n",
    "            number = number[:-8]\n",
    "            price = s.find(class_=\"a-price-whole\").text\n",
    "            category = categorize_product_advanced(name)\n",
    "            page_data.append([name, rating, number, price, category])\n",
    "        except AttributeError:\n",
    "            continue\n",
    "    return page_data"
   ]
  },
  {
   "cell_type": "code",
   "execution_count": 5,
   "id": "46a26e3e-4bbb-4834-ad17-4a1b8ebf3b0e",
   "metadata": {},
   "outputs": [
    {
     "name": "stdout",
     "output_type": "stream",
     "text": [
      "Scraping page 1...\n"
     ]
    }
   ],
   "source": [
    "browser = webdriver.Chrome(options=options)\n",
    "data = []\n",
    "\n",
    "try:\n",
    "    browser.get('https://www.amazon.in/s?me=A2TZPEKUT2134H&page=1')\n",
    "    time.sleep(5)\n",
    "    print(\"Scraping page 1...\")\n",
    "    data = scrape_products(browser)\n",
    "finally:\n",
    "    browser.quit()"
   ]
  },
  {
   "cell_type": "code",
   "execution_count": 6,
   "id": "23aab4d7-a6ee-4466-a3c9-881f90709be3",
   "metadata": {},
   "outputs": [
    {
     "data": {
      "text/plain": [
       "[['Medicube Collagen Overnight Wrapping Peel Off Facial Mask Pack - Elasticity & Hydration Care, Reduces Sagging & Dullness - Hydrolyzed Collagen For Glowing Skin - Korean Skin Care, 2.53 fl.oz',\n",
       "  '4.2',\n",
       "  '2,510',\n",
       "  '3,330',\n",
       "  'Skincare'],\n",
       " ['Pentel Ain Stein 0.5Mm Mechanical Pencil Lead | Lead of Grade 4B | Smooth & Not Scratchy | Easy to Insert Inside The Pencil | Pack of 40 Pcs (C275-4B), Black',\n",
       "  '4.5',\n",
       "  '8,900',\n",
       "  '289',\n",
       "  'Stationary'],\n",
       " ['MAGICYOYO Magic Yoyo N11 Alloy Aluminum Professional Yoyo Toy (Black With Golden)',\n",
       "  '4.3',\n",
       "  '5,844',\n",
       "  '2,899',\n",
       "  'Toys'],\n",
       " ['Genki: An Integrated Course in Elementary Japanese 1 [3rd Edition]',\n",
       "  '4.8',\n",
       "  '2,818',\n",
       "  '4,994',\n",
       "  'Speakers'],\n",
       " ['SAPHIR (Saphir) [Saphir] SAPHIR Cream Bead Wax Polish 50 ml',\n",
       "  '4.6',\n",
       "  '2,305',\n",
       "  '1,611',\n",
       "  'Skincare'],\n",
       " ['LIHIT LAB Compact Pen Case (Pencil Case), Water & Stain Repellent,3.5\" x 6.5\\'\\', Navy (A7687-11)',\n",
       "  '4.5',\n",
       "  '1,511',\n",
       "  '1,079',\n",
       "  'Stationary'],\n",
       " ['LEGO Technic Off-Road Race Buggy Car Toy 42164 (219 Pieces)',\n",
       "  '4.7',\n",
       "  '2,208',\n",
       "  '3,266.',\n",
       "  'Toys'],\n",
       " ['Pentel Multi-8 Set Refill Pens, Multi Color',\n",
       "  '4.5',\n",
       "  '1,407',\n",
       "  '2,994',\n",
       "  'Art Supplies'],\n",
       " ['JOREST Watch Band Adjustment Tool Set, Watch Pin Removal Tool, Watch Band Adjustment, Instruction Manual (English Version)',\n",
       "  '4.0',\n",
       "  '252',\n",
       "  '1,980',\n",
       "  'Wearable Devices'],\n",
       " ['JLPT KOSHIKI MONDAISHU N5', '4.6', '555', '1,648', 'Musical'],\n",
       " ['Pentel Ain Stein Mechanical Pencil Lead | Tip Size 0.5 MM | Lead Of Grade HB | Pack of 40 Pcs (C275-HB)',\n",
       "  '4.5',\n",
       "  '8,900',\n",
       "  '175',\n",
       "  'Stationary'],\n",
       " ['Elitech GSP-6 Temperature and Humidity Data Logger Recorder',\n",
       "  '4.2',\n",
       "  '381',\n",
       "  '7,999',\n",
       "  'Software'],\n",
       " ['CollectA Brachiosaurus Toy', '4.5', '179', '3,799', 'Toys'],\n",
       " ['LIHITLAB Zipper Pen Case, 7.9 × 2 × 4.7 Inches, Black (A7551-24)',\n",
       "  '4.4',\n",
       "  '14,185',\n",
       "  '740',\n",
       "  'Software']]"
      ]
     },
     "execution_count": 6,
     "metadata": {},
     "output_type": "execute_result"
    }
   ],
   "source": [
    "data"
   ]
  },
  {
   "cell_type": "code",
   "execution_count": 7,
   "id": "e68b58bb-a6f7-4c1a-84ef-0efbcdeb18cb",
   "metadata": {},
   "outputs": [],
   "source": [
    "# browser = webdriver.Chrome(options=options)\n",
    "# data=[]\n",
    "\n",
    "# try:\n",
    "#     browser.get('https://www.amazon.in/s?me=A2TZPEKUT2134H&page=1')\n",
    "#     time.sleep(5)\n",
    "#     page_number = 1\n",
    "#     while True:\n",
    "#         print(f\"Scraping page {page_number}...\")\n",
    "#         products = scrape_products(browser)\n",
    "#         if not products:\n",
    "#             print(\"No more products found.\")\n",
    "#             break\n",
    "#         data.extend(products)\n",
    "#         page_number += 1\n",
    "#         next_url = f'https://www.amazon.in/s?me=A2TZPEKUT2134H&page={page_number}'\n",
    "#         browser.get(next_url)\n",
    "#         time.sleep(5)\n",
    "# finally:\n",
    "#     browser.quit()"
   ]
  },
  {
   "cell_type": "code",
   "execution_count": 12,
   "id": "14e44754-8ee8-4615-933a-db99e52b761b",
   "metadata": {},
   "outputs": [],
   "source": [
    "# import joblib\n",
    "\n",
    "# vectorizer = joblib.load(\"vectorizer.pkl\")\n",
    "# model = joblib.load(\"nb_model.pkl\")\n",
    "\n",
    "# def predict_category(title):\n",
    "#     title_tfidf = vectorizer.transform([title])\n",
    "#     predicted_category = model.predict(title_tfidf)[0]\n",
    "#     return predicted_category"
   ]
  },
  {
   "cell_type": "code",
   "execution_count": 13,
   "id": "d5210489-36a2-42ae-a534-0268a7df3097",
   "metadata": {},
   "outputs": [],
   "source": [
    "# new_title = \"LIHITLAB Zipper Pen Case, 7.9 × 2 × 4.7 Inches, Black (A7551-24)\"\n",
    "# predicted_category = predict_category(new_title)\n",
    "# print(f\"Predicted Category: {predicted_category}\")"
   ]
  },
  {
   "cell_type": "code",
   "execution_count": null,
   "id": "5d987381-3f5b-43e3-941e-c0a1a226e8b1",
   "metadata": {},
   "outputs": [],
   "source": []
  }
 ],
 "metadata": {
  "kernelspec": {
   "display_name": "Python 3 (ipykernel)",
   "language": "python",
   "name": "python3"
  },
  "language_info": {
   "codemirror_mode": {
    "name": "ipython",
    "version": 3
   },
   "file_extension": ".py",
   "mimetype": "text/x-python",
   "name": "python",
   "nbconvert_exporter": "python",
   "pygments_lexer": "ipython3",
   "version": "3.12.3"
  }
 },
 "nbformat": 4,
 "nbformat_minor": 5
}
