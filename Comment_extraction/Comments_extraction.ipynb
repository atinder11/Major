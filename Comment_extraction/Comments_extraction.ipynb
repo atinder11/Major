{
 "cells": [
  {
   "cell_type": "code",
   "execution_count": 1,
   "id": "4aa5937c-4a55-4b22-a828-dc5214d0fcbb",
   "metadata": {},
   "outputs": [],
   "source": [
    "from selenium import webdriver\n",
    "from bs4 import BeautifulSoup\n",
    "from selenium.webdriver.chrome.options import Options\n",
    "import time"
   ]
  },
  {
   "cell_type": "code",
   "execution_count": 2,
   "id": "438fd718-8692-4efc-a1bb-759780fda817",
   "metadata": {},
   "outputs": [],
   "source": [
    "chrome_options = Options()\n",
    "chrome_options.add_argument(\"--headless\")\n",
    "chrome_options.add_argument(\"user-agent=Mozilla/5.0 (Windows NT 10.0; Win64; x64) AppleWebKit/537.36 (KHTML, like Gecko) Chrome/85.0.4183.83 Safari/537.36\")"
   ]
  },
  {
   "cell_type": "code",
   "execution_count": null,
   "id": "8239a0d9",
   "metadata": {},
   "outputs": [],
   "source": []
  },
  {
   "cell_type": "code",
   "execution_count": null,
   "id": "95d9963b",
   "metadata": {},
   "outputs": [],
   "source": []
  },
  {
   "cell_type": "code",
   "execution_count": 3,
   "id": "9951df7e-b01c-4b97-b1c6-d4dec05cf349",
   "metadata": {},
   "outputs": [],
   "source": [
    "browser = webdriver.Chrome(options = chrome_options)\n",
    "\n",
    "browser.get('https://www.youtube.com/watch?v=cGPpUdaISGE')"
   ]
  },
  {
   "cell_type": "code",
   "execution_count": 4,
   "id": "9e0a530e-19ae-4794-8bfe-a95d5dcdba78",
   "metadata": {},
   "outputs": [],
   "source": [
    "scroll_pause_time = 3\n",
    "last_height = browser.execute_script(\"return document.documentElement.scrollHeight\")\n",
    "\n",
    "while True:\n",
    "    browser.execute_script(\"window.scrollTo(0, document.documentElement.scrollHeight);\")\n",
    "    time.sleep(scroll_pause_time)\n",
    "    new_height = browser.execute_script(\"return document.documentElement.scrollHeight\")\n",
    "    if new_height == last_height:\n",
    "        break\n",
    "    last_height = new_height"
   ]
  },
  {
   "cell_type": "code",
   "execution_count": 5,
   "id": "13b46220-d3e6-459e-95c8-4ce608adc7c5",
   "metadata": {},
   "outputs": [],
   "source": [
    "soup = BeautifulSoup(browser.page_source, 'html.parser')"
   ]
  },
  {
   "cell_type": "code",
   "execution_count": 6,
   "id": "d6eab059-19fb-4559-af01-6598a0579972",
   "metadata": {},
   "outputs": [],
   "source": [
    "data = []\n",
    "\n",
    "for s in soup.find_all('ytd-comment-thread-renderer'):\n",
    "    try:\n",
    "        account = s.find('span', class_ = 'style-scope ytd-comment-view-model style-scope ytd-comment-view-model').text.strip()\n",
    "        comment = s.find('span', class_ = 'yt-core-attributed-string yt-core-attributed-string--white-space-pre-wrap').text.replace('\\n','')\n",
    "        comment = comment.replace(\".\", \". \")\n",
    "        data.append([account, comment])\n",
    "    except:\n",
    "        continue"
   ]
  },
  {
   "cell_type": "code",
   "execution_count": 7,
   "id": "42ea8562-c9c1-4738-9729-510873d5a638",
   "metadata": {},
   "outputs": [],
   "source": [
    "browser.quit()"
   ]
  },
  {
   "cell_type": "code",
   "execution_count": 8,
   "id": "999cdc0f-a7c5-4e52-8060-39a4c2f57ddb",
   "metadata": {},
   "outputs": [
    {
     "data": {
      "text/plain": [
       "[['@smarthbakshi7488', 'A long way to go! '],\n",
       " ['@ChocolateCloud3112',\n",
       "  'I am little below 20 lpa now.  Hope to cross this soon'],\n",
       " ['@pahadi_soul6657', 'Front-End developer roadmap ️'],\n",
       " ['@kunjshelat2318', 'Sir how did you learn java development?'],\n",
       " ['@abhinandankumar6437', 'What about fresher is any opportunity for fresher'],\n",
       " ['@studies443', 'Hindi language available in classes'],\n",
       " ['@ahsan769', 'Eligibility criteria kya tha company me jaane k liye'],\n",
       " ['@divyanshsinghal3917',\n",
       "  'Sir ji me 2 saal se Wipro me kaam kar rha hu. Abhi tak ek bhi enhancement nhi kiya and abhi job change karne me problem aa rhi he.  Apni roles and responsibilities kese explain Karu. Please help me'],\n",
       " ['@The_Shubham_Soni',\n",
       "  'Paahji mere pas 2 offer h ek TCS Or ek Dusri company me.  Konsi thik rahegi?']]"
      ]
     },
     "execution_count": 8,
     "metadata": {},
     "output_type": "execute_result"
    }
   ],
   "source": [
    "data"
   ]
  },
  {
   "cell_type": "code",
   "execution_count": 9,
   "id": "7e1a1f2b-d934-461b-a9ea-0a609f094439",
   "metadata": {},
   "outputs": [],
   "source": [
    "import pandas as pd\n",
    "\n",
    "df = pd.DataFrame(data, columns = ['user', 'comment'])"
   ]
  },
  {
   "cell_type": "code",
   "execution_count": 10,
   "id": "7694554b-b8a3-4a29-be24-c2d5c0c8ed2e",
   "metadata": {},
   "outputs": [
    {
     "data": {
      "text/html": [
       "<div>\n",
       "<style scoped>\n",
       "    .dataframe tbody tr th:only-of-type {\n",
       "        vertical-align: middle;\n",
       "    }\n",
       "\n",
       "    .dataframe tbody tr th {\n",
       "        vertical-align: top;\n",
       "    }\n",
       "\n",
       "    .dataframe thead th {\n",
       "        text-align: right;\n",
       "    }\n",
       "</style>\n",
       "<table border=\"1\" class=\"dataframe\">\n",
       "  <thead>\n",
       "    <tr style=\"text-align: right;\">\n",
       "      <th></th>\n",
       "      <th>user</th>\n",
       "      <th>comment</th>\n",
       "    </tr>\n",
       "  </thead>\n",
       "  <tbody>\n",
       "    <tr>\n",
       "      <th>0</th>\n",
       "      <td>@smarthbakshi7488</td>\n",
       "      <td>A long way to go!</td>\n",
       "    </tr>\n",
       "    <tr>\n",
       "      <th>1</th>\n",
       "      <td>@ChocolateCloud3112</td>\n",
       "      <td>I am little below 20 lpa now.  Hope to cross t...</td>\n",
       "    </tr>\n",
       "    <tr>\n",
       "      <th>2</th>\n",
       "      <td>@pahadi_soul6657</td>\n",
       "      <td>Front-End developer roadmap ️</td>\n",
       "    </tr>\n",
       "    <tr>\n",
       "      <th>3</th>\n",
       "      <td>@kunjshelat2318</td>\n",
       "      <td>Sir how did you learn java development?</td>\n",
       "    </tr>\n",
       "    <tr>\n",
       "      <th>4</th>\n",
       "      <td>@abhinandankumar6437</td>\n",
       "      <td>What about fresher is any opportunity for fresher</td>\n",
       "    </tr>\n",
       "    <tr>\n",
       "      <th>5</th>\n",
       "      <td>@studies443</td>\n",
       "      <td>Hindi language available in classes</td>\n",
       "    </tr>\n",
       "    <tr>\n",
       "      <th>6</th>\n",
       "      <td>@ahsan769</td>\n",
       "      <td>Eligibility criteria kya tha company me jaane ...</td>\n",
       "    </tr>\n",
       "    <tr>\n",
       "      <th>7</th>\n",
       "      <td>@divyanshsinghal3917</td>\n",
       "      <td>Sir ji me 2 saal se Wipro me kaam kar rha hu. ...</td>\n",
       "    </tr>\n",
       "    <tr>\n",
       "      <th>8</th>\n",
       "      <td>@The_Shubham_Soni</td>\n",
       "      <td>Paahji mere pas 2 offer h ek TCS Or ek Dusri c...</td>\n",
       "    </tr>\n",
       "  </tbody>\n",
       "</table>\n",
       "</div>"
      ],
      "text/plain": [
       "                   user                                            comment\n",
       "0     @smarthbakshi7488                                 A long way to go! \n",
       "1   @ChocolateCloud3112  I am little below 20 lpa now.  Hope to cross t...\n",
       "2      @pahadi_soul6657                      Front-End developer roadmap ️\n",
       "3       @kunjshelat2318            Sir how did you learn java development?\n",
       "4  @abhinandankumar6437  What about fresher is any opportunity for fresher\n",
       "5           @studies443                Hindi language available in classes\n",
       "6             @ahsan769  Eligibility criteria kya tha company me jaane ...\n",
       "7  @divyanshsinghal3917  Sir ji me 2 saal se Wipro me kaam kar rha hu. ...\n",
       "8     @The_Shubham_Soni  Paahji mere pas 2 offer h ek TCS Or ek Dusri c..."
      ]
     },
     "execution_count": 10,
     "metadata": {},
     "output_type": "execute_result"
    }
   ],
   "source": [
    "df"
   ]
  },
  {
   "cell_type": "markdown",
   "id": "95356c06-dd18-45f9-bebc-dac5c2360952",
   "metadata": {},
   "source": [
    "## Preprocessing"
   ]
  },
  {
   "cell_type": "code",
   "execution_count": 11,
   "id": "0f99a6a1-1fe8-4fe2-ad14-e8b724ddf650",
   "metadata": {},
   "outputs": [],
   "source": [
    "from deep_translator import GoogleTranslator\n",
    "translator = GoogleTranslator(source='auto', target='en')\n",
    "\n",
    "df['comment'] = df['comment'].apply(lambda x: translator.translate(x))"
   ]
  },
  {
   "cell_type": "markdown",
   "id": "5c152437",
   "metadata": {},
   "source": []
  },
  {
   "cell_type": "code",
   "execution_count": 12,
   "id": "45a30c90-6e17-4a4d-b6b6-48606002deb3",
   "metadata": {},
   "outputs": [
    {
     "data": {
      "text/html": [
       "<div>\n",
       "<style scoped>\n",
       "    .dataframe tbody tr th:only-of-type {\n",
       "        vertical-align: middle;\n",
       "    }\n",
       "\n",
       "    .dataframe tbody tr th {\n",
       "        vertical-align: top;\n",
       "    }\n",
       "\n",
       "    .dataframe thead th {\n",
       "        text-align: right;\n",
       "    }\n",
       "</style>\n",
       "<table border=\"1\" class=\"dataframe\">\n",
       "  <thead>\n",
       "    <tr style=\"text-align: right;\">\n",
       "      <th></th>\n",
       "      <th>user</th>\n",
       "      <th>comment</th>\n",
       "    </tr>\n",
       "  </thead>\n",
       "  <tbody>\n",
       "    <tr>\n",
       "      <th>0</th>\n",
       "      <td>@smarthbakshi7488</td>\n",
       "      <td>A long way to go!</td>\n",
       "    </tr>\n",
       "    <tr>\n",
       "      <th>1</th>\n",
       "      <td>@ChocolateCloud3112</td>\n",
       "      <td>I am little below 20 lpa now.  Hope to cross t...</td>\n",
       "    </tr>\n",
       "    <tr>\n",
       "      <th>2</th>\n",
       "      <td>@pahadi_soul6657</td>\n",
       "      <td>Front-End developer roadmap ️</td>\n",
       "    </tr>\n",
       "    <tr>\n",
       "      <th>3</th>\n",
       "      <td>@kunjshelat2318</td>\n",
       "      <td>Sir how did you learn java development?</td>\n",
       "    </tr>\n",
       "    <tr>\n",
       "      <th>4</th>\n",
       "      <td>@abhinandankumar6437</td>\n",
       "      <td>What about fresher is any opportunity for fresher</td>\n",
       "    </tr>\n",
       "    <tr>\n",
       "      <th>5</th>\n",
       "      <td>@studies443</td>\n",
       "      <td>Hindi language available in classes</td>\n",
       "    </tr>\n",
       "    <tr>\n",
       "      <th>6</th>\n",
       "      <td>@ahsan769</td>\n",
       "      <td>What was the eligibility criteria to join the ...</td>\n",
       "    </tr>\n",
       "    <tr>\n",
       "      <th>7</th>\n",
       "      <td>@divyanshsinghal3917</td>\n",
       "      <td>Sir ji I have been working in Wipro for 2 year...</td>\n",
       "    </tr>\n",
       "    <tr>\n",
       "      <th>8</th>\n",
       "      <td>@The_Shubham_Soni</td>\n",
       "      <td>Paahji, I have 2 offers, one from TCS and one ...</td>\n",
       "    </tr>\n",
       "  </tbody>\n",
       "</table>\n",
       "</div>"
      ],
      "text/plain": [
       "                   user                                            comment\n",
       "0     @smarthbakshi7488                                  A long way to go!\n",
       "1   @ChocolateCloud3112  I am little below 20 lpa now.  Hope to cross t...\n",
       "2      @pahadi_soul6657                      Front-End developer roadmap ️\n",
       "3       @kunjshelat2318            Sir how did you learn java development?\n",
       "4  @abhinandankumar6437  What about fresher is any opportunity for fresher\n",
       "5           @studies443                Hindi language available in classes\n",
       "6             @ahsan769  What was the eligibility criteria to join the ...\n",
       "7  @divyanshsinghal3917  Sir ji I have been working in Wipro for 2 year...\n",
       "8     @The_Shubham_Soni  Paahji, I have 2 offers, one from TCS and one ..."
      ]
     },
     "execution_count": 12,
     "metadata": {},
     "output_type": "execute_result"
    }
   ],
   "source": [
    "df"
   ]
  },
  {
   "cell_type": "code",
   "execution_count": 28,
   "id": "f78f342c-c554-4968-a6a8-ffd9b1ad646d",
   "metadata": {},
   "outputs": [],
   "source": [
    "from nltk.corpus import stopwords\n",
    "import string\n",
    "import nltk\n",
    "from nltk.stem.porter import PorterStemmer\n",
    "ps = PorterStemmer()"
   ]
  },
  {
   "cell_type": "code",
   "execution_count": 29,
   "id": "6c883800-6229-423f-94d0-f9fd8de6f836",
   "metadata": {},
   "outputs": [],
   "source": [
    "def transform_text(text):\n",
    "    text = text.lower()\n",
    "    text = nltk.word_tokenize(text)\n",
    "    y = []\n",
    "    for i in text:\n",
    "        if i.isalnum():\n",
    "            y.append(i)\n",
    "\n",
    "    text = y[:]\n",
    "    y.clear()\n",
    "\n",
    "    for i in text:\n",
    "        if i not in stopwords.words('english') and i not in string.punctuation:\n",
    "            y.append(i)\n",
    "\n",
    "    text = y[:]\n",
    "    y.clear()\n",
    "\n",
    "    for i in text:\n",
    "        y.append(ps.stem(i))\n",
    "    \n",
    "    return \" \".join(text)"
   ]
  },
  {
   "cell_type": "code",
   "execution_count": 30,
   "id": "abceeb55-0290-470e-9cea-b4d8483161b0",
   "metadata": {},
   "outputs": [
    {
     "name": "stdout",
     "output_type": "stream",
     "text": [
      "hey name prajwal\n"
     ]
    }
   ],
   "source": [
    "print(transform_text('HEY, MY name IS prajwal.'))"
   ]
  },
  {
   "cell_type": "code",
   "execution_count": 31,
   "id": "cd148d2e-53d7-49cb-acbc-7cec5c0d78f7",
   "metadata": {},
   "outputs": [],
   "source": [
    "df['comment'] = df['comment'].apply(transform_text)"
   ]
  },
  {
   "cell_type": "code",
   "execution_count": 33,
   "id": "2e9d34ed-0856-484b-aaf6-79a9db123448",
   "metadata": {},
   "outputs": [
    {
     "data": {
      "text/html": [
       "<div>\n",
       "<style scoped>\n",
       "    .dataframe tbody tr th:only-of-type {\n",
       "        vertical-align: middle;\n",
       "    }\n",
       "\n",
       "    .dataframe tbody tr th {\n",
       "        vertical-align: top;\n",
       "    }\n",
       "\n",
       "    .dataframe thead th {\n",
       "        text-align: right;\n",
       "    }\n",
       "</style>\n",
       "<table border=\"1\" class=\"dataframe\">\n",
       "  <thead>\n",
       "    <tr style=\"text-align: right;\">\n",
       "      <th></th>\n",
       "      <th>user</th>\n",
       "      <th>comment</th>\n",
       "    </tr>\n",
       "  </thead>\n",
       "  <tbody>\n",
       "    <tr>\n",
       "      <th>0</th>\n",
       "      <td>@smarthbakshi7488</td>\n",
       "      <td>long way go</td>\n",
       "    </tr>\n",
       "    <tr>\n",
       "      <th>1</th>\n",
       "      <td>@ChocolateCloud3112</td>\n",
       "      <td>little 20 lpa hope cross soon</td>\n",
       "    </tr>\n",
       "    <tr>\n",
       "      <th>2</th>\n",
       "      <td>@pahadi_soul6657</td>\n",
       "      <td>developer roadmap</td>\n",
       "    </tr>\n",
       "    <tr>\n",
       "      <th>3</th>\n",
       "      <td>@kunjshelat2318</td>\n",
       "      <td>sir learn java development</td>\n",
       "    </tr>\n",
       "    <tr>\n",
       "      <th>4</th>\n",
       "      <td>@abhinandankumar6437</td>\n",
       "      <td>fresher opportunity fresher</td>\n",
       "    </tr>\n",
       "  </tbody>\n",
       "</table>\n",
       "</div>"
      ],
      "text/plain": [
       "                   user                        comment\n",
       "0     @smarthbakshi7488                    long way go\n",
       "1   @ChocolateCloud3112  little 20 lpa hope cross soon\n",
       "2      @pahadi_soul6657              developer roadmap\n",
       "3       @kunjshelat2318     sir learn java development\n",
       "4  @abhinandankumar6437    fresher opportunity fresher"
      ]
     },
     "execution_count": 33,
     "metadata": {},
     "output_type": "execute_result"
    }
   ],
   "source": [
    "df.head()"
   ]
  },
  {
   "cell_type": "code",
   "execution_count": null,
   "id": "861c9520-a7b5-442f-bd07-3f7de10a69f3",
   "metadata": {},
   "outputs": [],
   "source": []
  }
 ],
 "metadata": {
  "kernelspec": {
   "display_name": "Python 3 (ipykernel)",
   "language": "python",
   "name": "python3"
  },
  "language_info": {
   "codemirror_mode": {
    "name": "ipython",
    "version": 3
   },
   "file_extension": ".py",
   "mimetype": "text/x-python",
   "name": "python",
   "nbconvert_exporter": "python",
   "pygments_lexer": "ipython3",
   "version": "3.12.3"
  }
 },
 "nbformat": 4,
 "nbformat_minor": 5
}
